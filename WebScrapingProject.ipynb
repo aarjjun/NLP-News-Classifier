{
  "nbformat": 4,
  "nbformat_minor": 0,
  "metadata": {
    "colab": {
      "provenance": []
    },
    "kernelspec": {
      "name": "python3",
      "display_name": "Python 3"
    },
    "language_info": {
      "name": "python"
    }
  },
  "cells": [
    {
      "cell_type": "markdown",
      "source": [
        "# Importing Libraries"
      ],
      "metadata": {
        "id": "NvHLH4M70YAt"
      }
    },
    {
      "cell_type": "code",
      "source": [
        "import requests\n",
        "from bs4 import BeautifulSoup\n",
        "import pandas as pd\n",
        "import nltk\n",
        "import re\n",
        "from nltk.tokenize import RegexpTokenizer\n",
        "from nltk.corpus import stopwords\n",
        "from nltk.stem import WordNetLemmatizer, PorterStemmer\n",
        "from sklearn.feature_extraction.text import TfidfVectorizer\n",
        "from sklearn.model_selection import train_test_split, GridSearchCV\n",
        "from sklearn.linear_model import LogisticRegression\n",
        "from sklearn.metrics import accuracy_score, classification_report, confusion_matrix\n",
        "import seaborn as sns\n",
        "import matplotlib.pyplot as plt\n",
        "import joblib"
      ],
      "metadata": {
        "id": "n3L0kcsi0jIO"
      },
      "execution_count": 44,
      "outputs": []
    },
    {
      "cell_type": "markdown",
      "source": [
        "# Downloading needed Language Toolkit"
      ],
      "metadata": {
        "id": "5EPGE9nu08Zn"
      }
    },
    {
      "cell_type": "markdown",
      "source": [
        "Used for cleaning and analysing the text by :\n",
        "\n",
        "1.   removing words like this..on..in etc\n",
        "2.   splitting sentances into wordz\n",
        "3.   converting words to their dictionary form\n",
        "\n"
      ],
      "metadata": {
        "id": "nnftRkNW11bV"
      }
    },
    {
      "cell_type": "code",
      "source": [
        "nltk.download('stopwords')\n",
        "nltk.download('punkt')\n",
        "nltk.download('wordnet')"
      ],
      "metadata": {
        "colab": {
          "base_uri": "https://localhost:8080/"
        },
        "id": "IVY5Sy6m2_gW",
        "outputId": "7e6cc464-23bd-4dc3-a060-71c25750d7f4"
      },
      "execution_count": 45,
      "outputs": [
        {
          "output_type": "stream",
          "name": "stderr",
          "text": [
            "[nltk_data] Downloading package stopwords to /root/nltk_data...\n",
            "[nltk_data]   Package stopwords is already up-to-date!\n",
            "[nltk_data] Downloading package punkt to /root/nltk_data...\n",
            "[nltk_data]   Package punkt is already up-to-date!\n",
            "[nltk_data] Downloading package wordnet to /root/nltk_data...\n",
            "[nltk_data]   Package wordnet is already up-to-date!\n"
          ]
        },
        {
          "output_type": "execute_result",
          "data": {
            "text/plain": [
              "True"
            ]
          },
          "metadata": {},
          "execution_count": 45
        }
      ]
    },
    {
      "cell_type": "markdown",
      "source": [
        "# Scraping News"
      ],
      "metadata": {
        "id": "v06XLTQ16vvU"
      }
    },
    {
      "cell_type": "markdown",
      "source": [
        "Function to scrape multiple pages of news from various sites"
      ],
      "metadata": {
        "id": "NVgsNYBB8kf1"
      }
    },
    {
      "cell_type": "code",
      "source": [
        "def scrape_news_multiple_pages(base_url, category, class_name, pages=10):\n",
        "    news_data = []\n",
        "    for page in range(1, pages + 1):\n",
        "        url = f\"{base_url}/page/{page}\" if \"indiatoday\" in base_url else base_url\n",
        "        print(f\"Scraping {category}, Page {page}...\")\n",
        "        try:\n",
        "            response = requests.get(url)\n",
        "            soup = BeautifulSoup(response.text, 'html.parser')\n",
        "            headlines = soup.find_all('span', {'class': class_name})\n",
        "            for headline in headlines:\n",
        "                title = headline.get_text().strip()  # Extract the text of the headline\n",
        "                link = headline.find_parent('a')['href'] if headline.find_parent('a') else None  # Get the link\n",
        "                if link:\n",
        "                    full_link = f'https://edition.cnn.com{link}' if link.startswith('/') else link\n",
        "                    news_data.append({'title': title, 'link': full_link, 'category': category})\n",
        "        except Exception as e:\n",
        "            print(f\"Error scraping {url}: {e}\")\n",
        "    return news_data"
      ],
      "metadata": {
        "id": "5shGCMmU8r_-"
      },
      "execution_count": 46,
      "outputs": []
    },
    {
      "cell_type": "markdown",
      "source": [
        "Defining categories nd their urls || collectinfg data for all categroies and saving it to all_news"
      ],
      "metadata": {
        "id": "cbBhw7Sc81Fs"
      }
    },
    {
      "cell_type": "code",
      "source": [
        "categories = {\n",
        "    'Sports': {'url': 'https://edition.cnn.com/sport', 'class_name': 'container__headline-text'},\n",
        "    'Tech': {'url': 'https://edition.cnn.com/business/tech', 'class_name': 'container__headline-text'},\n",
        "    'Business': {'url': 'https://edition.cnn.com/business', 'class_name': 'container__headline-text'},\n",
        "    'Health': {'url': 'https://edition.cnn.com/health', 'class_name': 'container__headline-text'},\n",
        "    'Entertainment': {'url': 'https://edition.cnn.com/entertainment', 'class_name': 'container__headline-text'},\n",
        "    'Politics': {'url': 'https://edition.cnn.com/politics', 'class_name': 'container__headline-text'},\n",
        "    'World News': {'url': 'https://edition.cnn.com/world', 'class_name': 'container__headline-text'},  # New category\n",
        "    'Lifestyle': {'url': 'https://edition.cnn.com/style', 'class_name': 'container__headline-text'},  # New category\n",
        "}\n",
        "\n",
        "all_news = []\n",
        "for category, info in categories.items():\n",
        "    news = scrape_news_multiple_pages(info['url'], category, info['class_name'], pages=10 if category == 'Tech' else 5)\n",
        "    all_news.extend(news)"
      ],
      "metadata": {
        "colab": {
          "base_uri": "https://localhost:8080/"
        },
        "id": "NHyiHX0T9Y2k",
        "outputId": "e5813210-6d28-4bfd-b037-36a05d86573c"
      },
      "execution_count": 47,
      "outputs": [
        {
          "output_type": "stream",
          "name": "stdout",
          "text": [
            "Scraping Sports, Page 1...\n",
            "Scraping Sports, Page 2...\n",
            "Scraping Sports, Page 3...\n",
            "Scraping Sports, Page 4...\n",
            "Scraping Sports, Page 5...\n",
            "Scraping Tech, Page 1...\n",
            "Scraping Tech, Page 2...\n",
            "Scraping Tech, Page 3...\n",
            "Scraping Tech, Page 4...\n",
            "Scraping Tech, Page 5...\n",
            "Scraping Tech, Page 6...\n",
            "Scraping Tech, Page 7...\n",
            "Scraping Tech, Page 8...\n",
            "Scraping Tech, Page 9...\n",
            "Scraping Tech, Page 10...\n",
            "Scraping Business, Page 1...\n",
            "Scraping Business, Page 2...\n",
            "Scraping Business, Page 3...\n",
            "Scraping Business, Page 4...\n",
            "Scraping Business, Page 5...\n",
            "Scraping Health, Page 1...\n",
            "Scraping Health, Page 2...\n",
            "Scraping Health, Page 3...\n",
            "Scraping Health, Page 4...\n",
            "Scraping Health, Page 5...\n",
            "Scraping Entertainment, Page 1...\n",
            "Scraping Entertainment, Page 2...\n",
            "Scraping Entertainment, Page 3...\n",
            "Scraping Entertainment, Page 4...\n",
            "Scraping Entertainment, Page 5...\n"
          ]
        }
      ]
    },
    {
      "cell_type": "markdown",
      "source": [
        "Convert the collected data into a DataFrame"
      ],
      "metadata": {
        "id": "xnjAUi4H9lRD"
      }
    },
    {
      "cell_type": "code",
      "source": [
        "df = pd.DataFrame(all_news)\n",
        "print(f\"Total news articles collected: {len(df)}\")\n",
        "print(df.head())"
      ],
      "metadata": {
        "colab": {
          "base_uri": "https://localhost:8080/"
        },
        "id": "SlFGs7KZ9rWk",
        "outputId": "a629189c-d116-4518-d4be-dbc8f5fab5fc"
      },
      "execution_count": 48,
      "outputs": [
        {
          "output_type": "stream",
          "name": "stdout",
          "text": [
            "Total news articles collected: 1250\n",
            "                                               title  \\\n",
            "0  ‘Money excuse must stop’: Thibaut Courtois urg...   \n",
            "1  2024 NFL playoff picture: Who’s clinched and w...   \n",
            "2  Gabriela Dabrowski, who won an Olympic medal a...   \n",
            "3  College Football Playoff: The biggest names lo...   \n",
            "4  Magnus Carlsen to rejoin World Blitz Chess Cha...   \n",
            "\n",
            "                                                link category  \n",
            "0  https://edition.cnn.com/2024/12/31/sport/thiba...   Sports  \n",
            "1  https://edition.cnn.com/2024/12/31/sport/nfl-p...   Sports  \n",
            "2  https://edition.cnn.com/2024/12/31/sport/gabri...   Sports  \n",
            "3  https://edition.cnn.com/2024/12/31/sport/colle...   Sports  \n",
            "4  https://edition.cnn.com/2024/12/30/sport/magnu...   Sports  \n"
          ]
        }
      ]
    },
    {
      "cell_type": "markdown",
      "source": [
        "# Data Pre-Processing"
      ],
      "metadata": {
        "id": "nr_lr4-V-EH0"
      }
    },
    {
      "cell_type": "markdown",
      "source": [
        "PreProcessing Fn:"
      ],
      "metadata": {
        "id": "iHOuBwsdGYjj"
      }
    },
    {
      "cell_type": "code",
      "source": [
        "tokenizer = RegexpTokenizer(r'\\w+')\n",
        "stemmer = PorterStemmer()\n",
        "\n",
        "def preprocess_text(text):\n",
        "    text = text.lower()\n",
        "    text = re.sub(r'[^a-zA-Z\\s]', '', text)  # Remove special characters\n",
        "    tokens = tokenizer.tokenize(text)\n",
        "    stop_words = set(stopwords.words('english'))\n",
        "    tokens = [word for word in tokens if word not in stop_words]\n",
        "    lemmatizer = WordNetLemmatizer()\n",
        "    tokens = [lemmatizer.lemmatize(word) for word in tokens]\n",
        "    tokens = [stemmer.stem(word) for word in tokens]  # Apply stemming\n",
        "    return ' '.join(tokens)"
      ],
      "metadata": {
        "id": "TCxbwzX3-JsF"
      },
      "execution_count": 49,
      "outputs": []
    },
    {
      "cell_type": "markdown",
      "source": [
        "PreProcessing Application"
      ],
      "metadata": {
        "id": "2qLYzgnfGcoM"
      }
    },
    {
      "cell_type": "code",
      "source": [
        "# Apply preprocessing\n",
        "df['processed_title'] = df['title'].apply(preprocess_text)\n",
        "\n",
        "# Feature Extraction\n",
        "vectorizer = TfidfVectorizer(max_features=10000, stop_words='english', ngram_range=(1, 3))\n",
        "X_tfidf = vectorizer.fit_transform(df['processed_title'])\n",
        "\n",
        "# Prepare labels for training\n",
        "category_map = {category: idx for idx, category in enumerate(categories.keys())}\n",
        "df['category_label'] = df['category'].map(category_map)\n",
        "\n",
        "# Balance the dataset\n",
        "min_samples = df['category_label'].value_counts().min()\n",
        "balanced_df = df.groupby('category_label').apply(lambda x: x.sample(min_samples)).reset_index(drop=True)"
      ],
      "metadata": {
        "colab": {
          "base_uri": "https://localhost:8080/"
        },
        "id": "BKgaWeFPGb0Z",
        "outputId": "9019d33c-cd74-4868-8b32-a864addc186c"
      },
      "execution_count": 50,
      "outputs": [
        {
          "output_type": "stream",
          "name": "stderr",
          "text": [
            "<ipython-input-50-6ade276c33dc>:14: DeprecationWarning: DataFrameGroupBy.apply operated on the grouping columns. This behavior is deprecated, and in a future version of pandas the grouping columns will be excluded from the operation. Either pass `include_groups=False` to exclude the groupings or explicitly select the grouping columns after groupby to silence this warning.\n",
            "  balanced_df = df.groupby('category_label').apply(lambda x: x.sample(min_samples)).reset_index(drop=True)\n"
          ]
        }
      ]
    },
    {
      "cell_type": "markdown",
      "source": [
        "## Split dataset into training and testing sets"
      ],
      "metadata": {
        "id": "RhBPpTAbGl1S"
      }
    },
    {
      "cell_type": "code",
      "source": [
        "X_train, X_test, y_train, y_test = train_test_split(\n",
        "    vectorizer.transform(balanced_df['processed_title']),\n",
        "    balanced_df['category_label'],\n",
        "    test_size=0.2,\n",
        "    random_state=42)"
      ],
      "metadata": {
        "id": "7g90nU4pGkOq"
      },
      "execution_count": 51,
      "outputs": []
    },
    {
      "cell_type": "markdown",
      "source": [
        "# Training The Model (logistc Regrsn)"
      ],
      "metadata": {
        "id": "ooptJCOaGrdA"
      }
    },
    {
      "cell_type": "code",
      "source": [
        "model = LogisticRegression(max_iter=500)\n",
        "model.fit(X_train, y_train)"
      ],
      "metadata": {
        "colab": {
          "base_uri": "https://localhost:8080/",
          "height": 80
        },
        "id": "7TIMhfDpGybD",
        "outputId": "4d6f618c-32e7-43a7-8892-f6693e034b74"
      },
      "execution_count": 52,
      "outputs": [
        {
          "output_type": "execute_result",
          "data": {
            "text/plain": [
              "LogisticRegression(max_iter=500)"
            ],
            "text/html": [
              "<style>#sk-container-id-4 {\n",
              "  /* Definition of color scheme common for light and dark mode */\n",
              "  --sklearn-color-text: #000;\n",
              "  --sklearn-color-text-muted: #666;\n",
              "  --sklearn-color-line: gray;\n",
              "  /* Definition of color scheme for unfitted estimators */\n",
              "  --sklearn-color-unfitted-level-0: #fff5e6;\n",
              "  --sklearn-color-unfitted-level-1: #f6e4d2;\n",
              "  --sklearn-color-unfitted-level-2: #ffe0b3;\n",
              "  --sklearn-color-unfitted-level-3: chocolate;\n",
              "  /* Definition of color scheme for fitted estimators */\n",
              "  --sklearn-color-fitted-level-0: #f0f8ff;\n",
              "  --sklearn-color-fitted-level-1: #d4ebff;\n",
              "  --sklearn-color-fitted-level-2: #b3dbfd;\n",
              "  --sklearn-color-fitted-level-3: cornflowerblue;\n",
              "\n",
              "  /* Specific color for light theme */\n",
              "  --sklearn-color-text-on-default-background: var(--sg-text-color, var(--theme-code-foreground, var(--jp-content-font-color1, black)));\n",
              "  --sklearn-color-background: var(--sg-background-color, var(--theme-background, var(--jp-layout-color0, white)));\n",
              "  --sklearn-color-border-box: var(--sg-text-color, var(--theme-code-foreground, var(--jp-content-font-color1, black)));\n",
              "  --sklearn-color-icon: #696969;\n",
              "\n",
              "  @media (prefers-color-scheme: dark) {\n",
              "    /* Redefinition of color scheme for dark theme */\n",
              "    --sklearn-color-text-on-default-background: var(--sg-text-color, var(--theme-code-foreground, var(--jp-content-font-color1, white)));\n",
              "    --sklearn-color-background: var(--sg-background-color, var(--theme-background, var(--jp-layout-color0, #111)));\n",
              "    --sklearn-color-border-box: var(--sg-text-color, var(--theme-code-foreground, var(--jp-content-font-color1, white)));\n",
              "    --sklearn-color-icon: #878787;\n",
              "  }\n",
              "}\n",
              "\n",
              "#sk-container-id-4 {\n",
              "  color: var(--sklearn-color-text);\n",
              "}\n",
              "\n",
              "#sk-container-id-4 pre {\n",
              "  padding: 0;\n",
              "}\n",
              "\n",
              "#sk-container-id-4 input.sk-hidden--visually {\n",
              "  border: 0;\n",
              "  clip: rect(1px 1px 1px 1px);\n",
              "  clip: rect(1px, 1px, 1px, 1px);\n",
              "  height: 1px;\n",
              "  margin: -1px;\n",
              "  overflow: hidden;\n",
              "  padding: 0;\n",
              "  position: absolute;\n",
              "  width: 1px;\n",
              "}\n",
              "\n",
              "#sk-container-id-4 div.sk-dashed-wrapped {\n",
              "  border: 1px dashed var(--sklearn-color-line);\n",
              "  margin: 0 0.4em 0.5em 0.4em;\n",
              "  box-sizing: border-box;\n",
              "  padding-bottom: 0.4em;\n",
              "  background-color: var(--sklearn-color-background);\n",
              "}\n",
              "\n",
              "#sk-container-id-4 div.sk-container {\n",
              "  /* jupyter's `normalize.less` sets `[hidden] { display: none; }`\n",
              "     but bootstrap.min.css set `[hidden] { display: none !important; }`\n",
              "     so we also need the `!important` here to be able to override the\n",
              "     default hidden behavior on the sphinx rendered scikit-learn.org.\n",
              "     See: https://github.com/scikit-learn/scikit-learn/issues/21755 */\n",
              "  display: inline-block !important;\n",
              "  position: relative;\n",
              "}\n",
              "\n",
              "#sk-container-id-4 div.sk-text-repr-fallback {\n",
              "  display: none;\n",
              "}\n",
              "\n",
              "div.sk-parallel-item,\n",
              "div.sk-serial,\n",
              "div.sk-item {\n",
              "  /* draw centered vertical line to link estimators */\n",
              "  background-image: linear-gradient(var(--sklearn-color-text-on-default-background), var(--sklearn-color-text-on-default-background));\n",
              "  background-size: 2px 100%;\n",
              "  background-repeat: no-repeat;\n",
              "  background-position: center center;\n",
              "}\n",
              "\n",
              "/* Parallel-specific style estimator block */\n",
              "\n",
              "#sk-container-id-4 div.sk-parallel-item::after {\n",
              "  content: \"\";\n",
              "  width: 100%;\n",
              "  border-bottom: 2px solid var(--sklearn-color-text-on-default-background);\n",
              "  flex-grow: 1;\n",
              "}\n",
              "\n",
              "#sk-container-id-4 div.sk-parallel {\n",
              "  display: flex;\n",
              "  align-items: stretch;\n",
              "  justify-content: center;\n",
              "  background-color: var(--sklearn-color-background);\n",
              "  position: relative;\n",
              "}\n",
              "\n",
              "#sk-container-id-4 div.sk-parallel-item {\n",
              "  display: flex;\n",
              "  flex-direction: column;\n",
              "}\n",
              "\n",
              "#sk-container-id-4 div.sk-parallel-item:first-child::after {\n",
              "  align-self: flex-end;\n",
              "  width: 50%;\n",
              "}\n",
              "\n",
              "#sk-container-id-4 div.sk-parallel-item:last-child::after {\n",
              "  align-self: flex-start;\n",
              "  width: 50%;\n",
              "}\n",
              "\n",
              "#sk-container-id-4 div.sk-parallel-item:only-child::after {\n",
              "  width: 0;\n",
              "}\n",
              "\n",
              "/* Serial-specific style estimator block */\n",
              "\n",
              "#sk-container-id-4 div.sk-serial {\n",
              "  display: flex;\n",
              "  flex-direction: column;\n",
              "  align-items: center;\n",
              "  background-color: var(--sklearn-color-background);\n",
              "  padding-right: 1em;\n",
              "  padding-left: 1em;\n",
              "}\n",
              "\n",
              "\n",
              "/* Toggleable style: style used for estimator/Pipeline/ColumnTransformer box that is\n",
              "clickable and can be expanded/collapsed.\n",
              "- Pipeline and ColumnTransformer use this feature and define the default style\n",
              "- Estimators will overwrite some part of the style using the `sk-estimator` class\n",
              "*/\n",
              "\n",
              "/* Pipeline and ColumnTransformer style (default) */\n",
              "\n",
              "#sk-container-id-4 div.sk-toggleable {\n",
              "  /* Default theme specific background. It is overwritten whether we have a\n",
              "  specific estimator or a Pipeline/ColumnTransformer */\n",
              "  background-color: var(--sklearn-color-background);\n",
              "}\n",
              "\n",
              "/* Toggleable label */\n",
              "#sk-container-id-4 label.sk-toggleable__label {\n",
              "  cursor: pointer;\n",
              "  display: flex;\n",
              "  width: 100%;\n",
              "  margin-bottom: 0;\n",
              "  padding: 0.5em;\n",
              "  box-sizing: border-box;\n",
              "  text-align: center;\n",
              "  align-items: start;\n",
              "  justify-content: space-between;\n",
              "  gap: 0.5em;\n",
              "}\n",
              "\n",
              "#sk-container-id-4 label.sk-toggleable__label .caption {\n",
              "  font-size: 0.6rem;\n",
              "  font-weight: lighter;\n",
              "  color: var(--sklearn-color-text-muted);\n",
              "}\n",
              "\n",
              "#sk-container-id-4 label.sk-toggleable__label-arrow:before {\n",
              "  /* Arrow on the left of the label */\n",
              "  content: \"▸\";\n",
              "  float: left;\n",
              "  margin-right: 0.25em;\n",
              "  color: var(--sklearn-color-icon);\n",
              "}\n",
              "\n",
              "#sk-container-id-4 label.sk-toggleable__label-arrow:hover:before {\n",
              "  color: var(--sklearn-color-text);\n",
              "}\n",
              "\n",
              "/* Toggleable content - dropdown */\n",
              "\n",
              "#sk-container-id-4 div.sk-toggleable__content {\n",
              "  max-height: 0;\n",
              "  max-width: 0;\n",
              "  overflow: hidden;\n",
              "  text-align: left;\n",
              "  /* unfitted */\n",
              "  background-color: var(--sklearn-color-unfitted-level-0);\n",
              "}\n",
              "\n",
              "#sk-container-id-4 div.sk-toggleable__content.fitted {\n",
              "  /* fitted */\n",
              "  background-color: var(--sklearn-color-fitted-level-0);\n",
              "}\n",
              "\n",
              "#sk-container-id-4 div.sk-toggleable__content pre {\n",
              "  margin: 0.2em;\n",
              "  border-radius: 0.25em;\n",
              "  color: var(--sklearn-color-text);\n",
              "  /* unfitted */\n",
              "  background-color: var(--sklearn-color-unfitted-level-0);\n",
              "}\n",
              "\n",
              "#sk-container-id-4 div.sk-toggleable__content.fitted pre {\n",
              "  /* unfitted */\n",
              "  background-color: var(--sklearn-color-fitted-level-0);\n",
              "}\n",
              "\n",
              "#sk-container-id-4 input.sk-toggleable__control:checked~div.sk-toggleable__content {\n",
              "  /* Expand drop-down */\n",
              "  max-height: 200px;\n",
              "  max-width: 100%;\n",
              "  overflow: auto;\n",
              "}\n",
              "\n",
              "#sk-container-id-4 input.sk-toggleable__control:checked~label.sk-toggleable__label-arrow:before {\n",
              "  content: \"▾\";\n",
              "}\n",
              "\n",
              "/* Pipeline/ColumnTransformer-specific style */\n",
              "\n",
              "#sk-container-id-4 div.sk-label input.sk-toggleable__control:checked~label.sk-toggleable__label {\n",
              "  color: var(--sklearn-color-text);\n",
              "  background-color: var(--sklearn-color-unfitted-level-2);\n",
              "}\n",
              "\n",
              "#sk-container-id-4 div.sk-label.fitted input.sk-toggleable__control:checked~label.sk-toggleable__label {\n",
              "  background-color: var(--sklearn-color-fitted-level-2);\n",
              "}\n",
              "\n",
              "/* Estimator-specific style */\n",
              "\n",
              "/* Colorize estimator box */\n",
              "#sk-container-id-4 div.sk-estimator input.sk-toggleable__control:checked~label.sk-toggleable__label {\n",
              "  /* unfitted */\n",
              "  background-color: var(--sklearn-color-unfitted-level-2);\n",
              "}\n",
              "\n",
              "#sk-container-id-4 div.sk-estimator.fitted input.sk-toggleable__control:checked~label.sk-toggleable__label {\n",
              "  /* fitted */\n",
              "  background-color: var(--sklearn-color-fitted-level-2);\n",
              "}\n",
              "\n",
              "#sk-container-id-4 div.sk-label label.sk-toggleable__label,\n",
              "#sk-container-id-4 div.sk-label label {\n",
              "  /* The background is the default theme color */\n",
              "  color: var(--sklearn-color-text-on-default-background);\n",
              "}\n",
              "\n",
              "/* On hover, darken the color of the background */\n",
              "#sk-container-id-4 div.sk-label:hover label.sk-toggleable__label {\n",
              "  color: var(--sklearn-color-text);\n",
              "  background-color: var(--sklearn-color-unfitted-level-2);\n",
              "}\n",
              "\n",
              "/* Label box, darken color on hover, fitted */\n",
              "#sk-container-id-4 div.sk-label.fitted:hover label.sk-toggleable__label.fitted {\n",
              "  color: var(--sklearn-color-text);\n",
              "  background-color: var(--sklearn-color-fitted-level-2);\n",
              "}\n",
              "\n",
              "/* Estimator label */\n",
              "\n",
              "#sk-container-id-4 div.sk-label label {\n",
              "  font-family: monospace;\n",
              "  font-weight: bold;\n",
              "  display: inline-block;\n",
              "  line-height: 1.2em;\n",
              "}\n",
              "\n",
              "#sk-container-id-4 div.sk-label-container {\n",
              "  text-align: center;\n",
              "}\n",
              "\n",
              "/* Estimator-specific */\n",
              "#sk-container-id-4 div.sk-estimator {\n",
              "  font-family: monospace;\n",
              "  border: 1px dotted var(--sklearn-color-border-box);\n",
              "  border-radius: 0.25em;\n",
              "  box-sizing: border-box;\n",
              "  margin-bottom: 0.5em;\n",
              "  /* unfitted */\n",
              "  background-color: var(--sklearn-color-unfitted-level-0);\n",
              "}\n",
              "\n",
              "#sk-container-id-4 div.sk-estimator.fitted {\n",
              "  /* fitted */\n",
              "  background-color: var(--sklearn-color-fitted-level-0);\n",
              "}\n",
              "\n",
              "/* on hover */\n",
              "#sk-container-id-4 div.sk-estimator:hover {\n",
              "  /* unfitted */\n",
              "  background-color: var(--sklearn-color-unfitted-level-2);\n",
              "}\n",
              "\n",
              "#sk-container-id-4 div.sk-estimator.fitted:hover {\n",
              "  /* fitted */\n",
              "  background-color: var(--sklearn-color-fitted-level-2);\n",
              "}\n",
              "\n",
              "/* Specification for estimator info (e.g. \"i\" and \"?\") */\n",
              "\n",
              "/* Common style for \"i\" and \"?\" */\n",
              "\n",
              ".sk-estimator-doc-link,\n",
              "a:link.sk-estimator-doc-link,\n",
              "a:visited.sk-estimator-doc-link {\n",
              "  float: right;\n",
              "  font-size: smaller;\n",
              "  line-height: 1em;\n",
              "  font-family: monospace;\n",
              "  background-color: var(--sklearn-color-background);\n",
              "  border-radius: 1em;\n",
              "  height: 1em;\n",
              "  width: 1em;\n",
              "  text-decoration: none !important;\n",
              "  margin-left: 0.5em;\n",
              "  text-align: center;\n",
              "  /* unfitted */\n",
              "  border: var(--sklearn-color-unfitted-level-1) 1pt solid;\n",
              "  color: var(--sklearn-color-unfitted-level-1);\n",
              "}\n",
              "\n",
              ".sk-estimator-doc-link.fitted,\n",
              "a:link.sk-estimator-doc-link.fitted,\n",
              "a:visited.sk-estimator-doc-link.fitted {\n",
              "  /* fitted */\n",
              "  border: var(--sklearn-color-fitted-level-1) 1pt solid;\n",
              "  color: var(--sklearn-color-fitted-level-1);\n",
              "}\n",
              "\n",
              "/* On hover */\n",
              "div.sk-estimator:hover .sk-estimator-doc-link:hover,\n",
              ".sk-estimator-doc-link:hover,\n",
              "div.sk-label-container:hover .sk-estimator-doc-link:hover,\n",
              ".sk-estimator-doc-link:hover {\n",
              "  /* unfitted */\n",
              "  background-color: var(--sklearn-color-unfitted-level-3);\n",
              "  color: var(--sklearn-color-background);\n",
              "  text-decoration: none;\n",
              "}\n",
              "\n",
              "div.sk-estimator.fitted:hover .sk-estimator-doc-link.fitted:hover,\n",
              ".sk-estimator-doc-link.fitted:hover,\n",
              "div.sk-label-container:hover .sk-estimator-doc-link.fitted:hover,\n",
              ".sk-estimator-doc-link.fitted:hover {\n",
              "  /* fitted */\n",
              "  background-color: var(--sklearn-color-fitted-level-3);\n",
              "  color: var(--sklearn-color-background);\n",
              "  text-decoration: none;\n",
              "}\n",
              "\n",
              "/* Span, style for the box shown on hovering the info icon */\n",
              ".sk-estimator-doc-link span {\n",
              "  display: none;\n",
              "  z-index: 9999;\n",
              "  position: relative;\n",
              "  font-weight: normal;\n",
              "  right: .2ex;\n",
              "  padding: .5ex;\n",
              "  margin: .5ex;\n",
              "  width: min-content;\n",
              "  min-width: 20ex;\n",
              "  max-width: 50ex;\n",
              "  color: var(--sklearn-color-text);\n",
              "  box-shadow: 2pt 2pt 4pt #999;\n",
              "  /* unfitted */\n",
              "  background: var(--sklearn-color-unfitted-level-0);\n",
              "  border: .5pt solid var(--sklearn-color-unfitted-level-3);\n",
              "}\n",
              "\n",
              ".sk-estimator-doc-link.fitted span {\n",
              "  /* fitted */\n",
              "  background: var(--sklearn-color-fitted-level-0);\n",
              "  border: var(--sklearn-color-fitted-level-3);\n",
              "}\n",
              "\n",
              ".sk-estimator-doc-link:hover span {\n",
              "  display: block;\n",
              "}\n",
              "\n",
              "/* \"?\"-specific style due to the `<a>` HTML tag */\n",
              "\n",
              "#sk-container-id-4 a.estimator_doc_link {\n",
              "  float: right;\n",
              "  font-size: 1rem;\n",
              "  line-height: 1em;\n",
              "  font-family: monospace;\n",
              "  background-color: var(--sklearn-color-background);\n",
              "  border-radius: 1rem;\n",
              "  height: 1rem;\n",
              "  width: 1rem;\n",
              "  text-decoration: none;\n",
              "  /* unfitted */\n",
              "  color: var(--sklearn-color-unfitted-level-1);\n",
              "  border: var(--sklearn-color-unfitted-level-1) 1pt solid;\n",
              "}\n",
              "\n",
              "#sk-container-id-4 a.estimator_doc_link.fitted {\n",
              "  /* fitted */\n",
              "  border: var(--sklearn-color-fitted-level-1) 1pt solid;\n",
              "  color: var(--sklearn-color-fitted-level-1);\n",
              "}\n",
              "\n",
              "/* On hover */\n",
              "#sk-container-id-4 a.estimator_doc_link:hover {\n",
              "  /* unfitted */\n",
              "  background-color: var(--sklearn-color-unfitted-level-3);\n",
              "  color: var(--sklearn-color-background);\n",
              "  text-decoration: none;\n",
              "}\n",
              "\n",
              "#sk-container-id-4 a.estimator_doc_link.fitted:hover {\n",
              "  /* fitted */\n",
              "  background-color: var(--sklearn-color-fitted-level-3);\n",
              "}\n",
              "</style><div id=\"sk-container-id-4\" class=\"sk-top-container\"><div class=\"sk-text-repr-fallback\"><pre>LogisticRegression(max_iter=500)</pre><b>In a Jupyter environment, please rerun this cell to show the HTML representation or trust the notebook. <br />On GitHub, the HTML representation is unable to render, please try loading this page with nbviewer.org.</b></div><div class=\"sk-container\" hidden><div class=\"sk-item\"><div class=\"sk-estimator fitted sk-toggleable\"><input class=\"sk-toggleable__control sk-hidden--visually\" id=\"sk-estimator-id-4\" type=\"checkbox\" checked><label for=\"sk-estimator-id-4\" class=\"sk-toggleable__label fitted sk-toggleable__label-arrow\"><div><div>LogisticRegression</div></div><div><a class=\"sk-estimator-doc-link fitted\" rel=\"noreferrer\" target=\"_blank\" href=\"https://scikit-learn.org/1.6/modules/generated/sklearn.linear_model.LogisticRegression.html\">?<span>Documentation for LogisticRegression</span></a><span class=\"sk-estimator-doc-link fitted\">i<span>Fitted</span></span></div></label><div class=\"sk-toggleable__content fitted\"><pre>LogisticRegression(max_iter=500)</pre></div> </div></div></div></div>"
            ]
          },
          "metadata": {},
          "execution_count": 52
        }
      ]
    },
    {
      "cell_type": "markdown",
      "source": [
        "Evaluation of model"
      ],
      "metadata": {
        "id": "xk7_mpe1H6kl"
      }
    },
    {
      "cell_type": "code",
      "source": [
        "y_pred = model.predict(X_test)\n",
        "accuracy = accuracy_score(y_test, y_pred)\n",
        "print(f\"Logistic Regression Accuracy: {accuracy:.4f}\")\n",
        "print(\"Classification Report:\")\n",
        "print(classification_report(y_test, y_pred, target_names=category_map.keys(), labels=list(category_map.values())))\n",
        "\n",
        "# Hyperparameter tuning with GridSearchCV\n",
        "param_grid = {'C': [0.1, 1, 10, 100]}\n",
        "grid_search = GridSearchCV(LogisticRegression(max_iter=500), param_grid, cv=5)\n",
        "grid_search.fit(X_train, y_train)\n",
        "print(f\"Best Parameters: {grid_search.best_params_}\")\n",
        "best_model = grid_search.best_estimator_"
      ],
      "metadata": {
        "colab": {
          "base_uri": "https://localhost:8080/"
        },
        "id": "IC2_J2KMH9By",
        "outputId": "19c14b12-5889-49a6-83ae-9aae20f42ff8"
      },
      "execution_count": 53,
      "outputs": [
        {
          "output_type": "stream",
          "name": "stdout",
          "text": [
            "Logistic Regression Accuracy: 0.9394\n",
            "Classification Report:\n",
            "               precision    recall  f1-score   support\n",
            "\n",
            "       Sports       0.97      1.00      0.99        33\n",
            "         Tech       0.85      0.88      0.86        32\n",
            "     Business       0.88      0.82      0.85        34\n",
            "       Health       1.00      1.00      1.00        29\n",
            "Entertainment       1.00      1.00      1.00        37\n",
            "\n",
            "     accuracy                           0.94       165\n",
            "    macro avg       0.94      0.94      0.94       165\n",
            " weighted avg       0.94      0.94      0.94       165\n",
            "\n",
            "Best Parameters: {'C': 10}\n"
          ]
        }
      ]
    },
    {
      "cell_type": "markdown",
      "source": [
        "# Saving Model And Vectorizer"
      ],
      "metadata": {
        "id": "k1k6RLONIKdp"
      }
    },
    {
      "cell_type": "code",
      "source": [
        "joblib.dump(best_model, 'news_classifier_model.pkl')\n",
        "joblib.dump(vectorizer, 'tfidf_vectorizer.pkl')\n"
      ],
      "metadata": {
        "colab": {
          "base_uri": "https://localhost:8080/"
        },
        "id": "1Ax7zW_dIODi",
        "outputId": "36c6c55a-266e-4e03-be4d-49a6f8a280c1"
      },
      "execution_count": 54,
      "outputs": [
        {
          "output_type": "execute_result",
          "data": {
            "text/plain": [
              "['tfidf_vectorizer.pkl']"
            ]
          },
          "metadata": {},
          "execution_count": 54
        }
      ]
    },
    {
      "cell_type": "markdown",
      "source": [
        "# Model Testing !!!"
      ],
      "metadata": {
        "id": "3zLPErR6Ip4_"
      }
    },
    {
      "cell_type": "markdown",
      "source": [
        "Replace test headlines array with news headline you want to predict"
      ],
      "metadata": {
        "id": "jl7Lrr8-Ip3y"
      }
    },
    {
      "cell_type": "code",
      "source": [
        "def test_model(headlines):\n",
        "    loaded_model = joblib.load('news_classifier_model.pkl')\n",
        "    loaded_vectorizer = joblib.load('tfidf_vectorizer.pkl')\n",
        "\n",
        "    processed_headlines = [preprocess_text(headline) for headline in headlines]\n",
        "    X_new = loaded_vectorizer.transform(processed_headlines)\n",
        "    predictions = loaded_model.predict(X_new)\n",
        "\n",
        "    # Map predictions back to category names\n",
        "    category_map_reverse = {v: k for k, v in category_map.items()}\n",
        "    predicted_categories = [category_map_reverse[pred] for pred in predictions]\n",
        "\n",
        "    for headline, category in zip(headlines, predicted_categories):\n",
        "        print(f\"Headline: {headline}\")\n",
        "        print(f\"Predicted Category: {category}\\n\")\n",
        "\n",
        "# Example test\n",
        "test_headlines = [\n",
        "    \"Apple releases new iPhone with groundbreaking features\",\n",
        "    \"India wins the cricket World Cup in a thrilling final\",\n",
        "    \"Netflix releases its most-watched series of the year\",\n",
        "    \"Stock market hits an all-time high as companies report profits\",\n",
        "    \"Doctors warn about a new virus outbreak\",\n",
        "    \"New Marvel movie breaks box office records\",\n",
        "    \"Presidential election results bring shock to the nation\",\n",
        "    \"5 healthy habits to improve your lifestyle in 2025\",\n",
        "    \"World leaders meet to discuss global economic reforms\"\n",
        "]\n",
        "test_model(test_headlines)"
      ],
      "metadata": {
        "colab": {
          "base_uri": "https://localhost:8080/"
        },
        "id": "-ib1zDcxIs5a",
        "outputId": "d7b0822a-df23-4c43-a569-2341c9ea7101"
      },
      "execution_count": 55,
      "outputs": [
        {
          "output_type": "stream",
          "name": "stdout",
          "text": [
            "Headline: Apple releases new iPhone with groundbreaking features\n",
            "Predicted Category: Entertainment\n",
            "\n",
            "Headline: India wins the cricket World Cup in a thrilling final\n",
            "Predicted Category: Sports\n",
            "\n",
            "Headline: Netflix releases its most-watched series of the year\n",
            "Predicted Category: Sports\n",
            "\n",
            "Headline: Stock market hits an all-time high as companies report profits\n",
            "Predicted Category: Business\n",
            "\n",
            "Headline: Doctors warn about a new virus outbreak\n",
            "Predicted Category: Health\n",
            "\n",
            "Headline: New Marvel movie breaks box office records\n",
            "Predicted Category: Entertainment\n",
            "\n"
          ]
        }
      ]
    },
    {
      "cell_type": "markdown",
      "source": [
        "Accuracy Score and Classifiction Report"
      ],
      "metadata": {
        "id": "0yiR0covKd56"
      }
    },
    {
      "cell_type": "code",
      "source": [
        "# Evaluate on Training Data\n",
        "y_train_pred = model.predict(X_train)\n",
        "train_accuracy = accuracy_score(y_train, y_train_pred)\n",
        "print(f\"Training Accuracy: {train_accuracy:.4f}\")\n",
        "\n",
        "# Compare with Test Accuracy\n",
        "y_test_pred = model.predict(X_test)\n",
        "test_accuracy = accuracy_score(y_test, y_test_pred)\n",
        "print(f\"Test Accuracy: {test_accuracy:.4f}\")\n",
        "\n",
        "# Detailed Classification Reports for Training and Test Data\n",
        "print(\"\\nClassification Report (Training Data):\")\n",
        "print(classification_report(y_train, y_train_pred, target_names=category_map.keys(), labels=list(category_map.values())))\n",
        "\n",
        "print(\"\\nClassification Report (Test Data):\")\n",
        "print(classification_report(y_test, y_test_pred, target_names=category_map.keys(), labels=list(category_map.values())))\n"
      ],
      "metadata": {
        "colab": {
          "base_uri": "https://localhost:8080/"
        },
        "id": "n3Dj9sQPKxub",
        "outputId": "74e2656e-3c1e-424a-ad15-564e505f9cf1"
      },
      "execution_count": 56,
      "outputs": [
        {
          "output_type": "stream",
          "name": "stdout",
          "text": [
            "Training Accuracy: 0.9515\n",
            "Test Accuracy: 0.9394\n",
            "\n",
            "Classification Report (Training Data):\n",
            "               precision    recall  f1-score   support\n",
            "\n",
            "       Sports       1.00      1.00      1.00       132\n",
            "         Tech       0.83      0.96      0.89       133\n",
            "     Business       0.96      0.83      0.89       131\n",
            "       Health       1.00      0.96      0.98       136\n",
            "Entertainment       1.00      1.00      1.00       128\n",
            "\n",
            "     accuracy                           0.95       660\n",
            "    macro avg       0.96      0.95      0.95       660\n",
            " weighted avg       0.96      0.95      0.95       660\n",
            "\n",
            "\n",
            "Classification Report (Test Data):\n",
            "               precision    recall  f1-score   support\n",
            "\n",
            "       Sports       0.97      1.00      0.99        33\n",
            "         Tech       0.85      0.88      0.86        32\n",
            "     Business       0.88      0.82      0.85        34\n",
            "       Health       1.00      1.00      1.00        29\n",
            "Entertainment       1.00      1.00      1.00        37\n",
            "\n",
            "     accuracy                           0.94       165\n",
            "    macro avg       0.94      0.94      0.94       165\n",
            " weighted avg       0.94      0.94      0.94       165\n",
            "\n"
          ]
        }
      ]
    },
    {
      "cell_type": "markdown",
      "source": [
        "# Saving DataSet into CSV"
      ],
      "metadata": {
        "id": "C7vst98SLeDC"
      }
    },
    {
      "cell_type": "code",
      "source": [
        "df.to_csv(\"news_dataset.csv\", index=False)\n",
        "print(\"Dataset saved as 'news_dataset.csv'\")\n"
      ],
      "metadata": {
        "colab": {
          "base_uri": "https://localhost:8080/"
        },
        "id": "jU4aqDOLLdrj",
        "outputId": "704f7353-5e86-40d5-efab-83b16557dd41"
      },
      "execution_count": 57,
      "outputs": [
        {
          "output_type": "stream",
          "name": "stdout",
          "text": [
            "Dataset saved as 'news_dataset.csv'\n"
          ]
        }
      ]
    }
  ]
}